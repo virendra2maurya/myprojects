{
 "cells": [
  {
   "cell_type": "code",
   "execution_count": 5,
   "id": "8bcec8e6-7e11-402f-bdf3-1ba6dbe92fb6",
   "metadata": {},
   "outputs": [],
   "source": [
    "val={'name':'nitin','age':34}\n"
   ]
  },
  {
   "cell_type": "code",
   "execution_count": 6,
   "id": "faec846e-f715-4782-9a27-c943b8a157f3",
   "metadata": {},
   "outputs": [
    {
     "name": "stdout",
     "output_type": "stream",
     "text": [
      "{'name': 'nitin', 'age': 34}\n"
     ]
    }
   ],
   "source": [
    "print(val)"
   ]
  },
  {
   "cell_type": "code",
   "execution_count": null,
   "id": "8e8f3e99-dd20-442d-ad47-b428c46b4e27",
   "metadata": {},
   "outputs": [],
   "source": [
    "data={'nitin':'name',34:"
   ]
  }
 ],
 "metadata": {
  "kernelspec": {
   "display_name": "Python 3 (ipykernel)",
   "language": "python",
   "name": "python3"
  },
  "language_info": {
   "codemirror_mode": {
    "name": "ipython",
    "version": 3
   },
   "file_extension": ".py",
   "mimetype": "text/x-python",
   "name": "python",
   "nbconvert_exporter": "python",
   "pygments_lexer": "ipython3",
   "version": "3.11.7"
  }
 },
 "nbformat": 4,
 "nbformat_minor": 5
}
